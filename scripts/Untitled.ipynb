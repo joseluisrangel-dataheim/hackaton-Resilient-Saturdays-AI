{
 "cells": [
  {
   "cell_type": "code",
   "execution_count": 1,
   "metadata": {},
   "outputs": [],
   "source": [
    "import pandas as pd\n",
    "import numpy as np\n",
    "import os\n",
    "from fastai import *"
   ]
  },
  {
   "cell_type": "code",
   "execution_count": 2,
   "metadata": {},
   "outputs": [],
   "source": [
    "os.chdir(\"..\")"
   ]
  },
  {
   "cell_type": "markdown",
   "metadata": {},
   "source": [
    "# Data"
   ]
  },
  {
   "cell_type": "code",
   "execution_count": 3,
   "metadata": {},
   "outputs": [],
   "source": [
    "A = pd.read_csv('processed/Datasets1_join.csv')\n",
    "B = pd.read_csv('processed/Datasets2_join.csv')"
   ]
  },
  {
   "cell_type": "code",
   "execution_count": 5,
   "metadata": {},
   "outputs": [],
   "source": [
    "A['farm'] = 'A'\n",
    "B['farm'] = 'B'"
   ]
  },
  {
   "cell_type": "code",
   "execution_count": 6,
   "metadata": {},
   "outputs": [],
   "source": [
    "df =pd.concat([A, B])"
   ]
  },
  {
   "cell_type": "code",
   "execution_count": 8,
   "metadata": {},
   "outputs": [],
   "source": [
    "# Interpolation\n",
    "df = df.interpolate()"
   ]
  },
  {
   "cell_type": "code",
   "execution_count": 11,
   "metadata": {},
   "outputs": [],
   "source": [
    "df = pd.concat([df,pd.get_dummies(df['farm'], prefix='farm')],axis=1)"
   ]
  },
  {
   "cell_type": "code",
   "execution_count": 13,
   "metadata": {},
   "outputs": [],
   "source": [
    "df = df.drop(columns=['farm'])"
   ]
  },
  {
   "cell_type": "code",
   "execution_count": 15,
   "metadata": {},
   "outputs": [],
   "source": [
    "df['timeStamp'] = pd.to_datetime(df['timeStamp'])"
   ]
  },
  {
   "cell_type": "markdown",
   "metadata": {},
   "source": [
    "# windPower model"
   ]
  },
  {
   "cell_type": "code",
   "execution_count": 17,
   "metadata": {},
   "outputs": [],
   "source": [
    "train = df.copy()\n",
    "train = train[['timeStamp', 'windSpeed (m/s)', 'windDic (degree)', 'windPower', 'farm_A', 'farm_B']]"
   ]
  },
  {
   "cell_type": "markdown",
   "metadata": {},
   "source": [
    "### Features"
   ]
  },
  {
   "cell_type": "code",
   "execution_count": 19,
   "metadata": {},
   "outputs": [],
   "source": [
    "train['y'] = train['windPower']"
   ]
  },
  {
   "cell_type": "code",
   "execution_count": 20,
   "metadata": {},
   "outputs": [],
   "source": [
    "train['speed_lag_1'] = train['windSpeed (m/s)'].shift(1)\n",
    "train['speed_lag_2'] = train['windSpeed (m/s)'].shift(2)\n",
    "train['speed_lag_3'] = train['windSpeed (m/s)'].shift(3)\n",
    "train['speed_lag_4'] = train['windSpeed (m/s)'].shift(4)\n",
    "train['speed_lag_5'] = train['windSpeed (m/s)'].shift(5)\n",
    "train['speed_lag_6'] = train['windSpeed (m/s)'].shift(6)"
   ]
  },
  {
   "cell_type": "code",
   "execution_count": 21,
   "metadata": {},
   "outputs": [],
   "source": [
    "train['speed_n_1'] = train['windSpeed (m/s)'].shift(-1)\n",
    "train['speed_n_2'] = train['windSpeed (m/s)'].shift(-2)\n",
    "train['speed_n_3'] = train['windSpeed (m/s)'].shift(-3)\n",
    "train['speed_n_4'] = train['windSpeed (m/s)'].shift(-4)\n",
    "train['speed_n_5'] = train['windSpeed (m/s)'].shift(-5)\n",
    "train['speed_n_6'] = train['windSpeed (m/s)'].shift(-6)"
   ]
  },
  {
   "cell_type": "code",
   "execution_count": 22,
   "metadata": {},
   "outputs": [],
   "source": [
    "train['speed_rolling_lag_3'] = train['windSpeed (m/s)'].rolling(3).mean()\n",
    "train['speed_rolling_lag_6'] = train['windSpeed (m/s)'].rolling(6).mean()\n",
    "train['speed_rolling_lag_12'] = train['windSpeed (m/s)'].rolling(12).mean()\n",
    "train['speed_rolling_n_3'] = train['windSpeed (m/s)'].shift(-3).rolling(3).mean()\n",
    "train['speed_rolling_n_6'] = train['windSpeed (m/s)'].shift(-6).rolling(6).mean()\n",
    "train['speed_rolling_n_12'] = train['windSpeed (m/s)'].shift(-12).rolling(12).mean()"
   ]
  },
  {
   "cell_type": "code",
   "execution_count": 23,
   "metadata": {},
   "outputs": [],
   "source": [
    "train = train.dropna()"
   ]
  },
  {
   "cell_type": "markdown",
   "metadata": {},
   "source": [
    "### Variables"
   ]
  },
  {
   "cell_type": "code",
   "execution_count": 24,
   "metadata": {},
   "outputs": [
    {
     "data": {
      "text/plain": [
       "Index(['timeStamp', 'windSpeed (m/s)', 'windDic (degree)', 'windPower',\n",
       "       'farm_A', 'farm_B', 'y', 'speed_lag_1', 'speed_lag_2', 'speed_lag_3',\n",
       "       'speed_lag_4', 'speed_lag_5', 'speed_lag_6', 'speed_n_1', 'speed_n_2',\n",
       "       'speed_n_3', 'speed_n_4', 'speed_n_5', 'speed_n_6',\n",
       "       'speed_rolling_lag_3', 'speed_rolling_lag_6', 'speed_rolling_lag_12',\n",
       "       'speed_rolling_n_3', 'speed_rolling_n_6', 'speed_rolling_n_12'],\n",
       "      dtype='object')"
      ]
     },
     "execution_count": 24,
     "metadata": {},
     "output_type": "execute_result"
    }
   ],
   "source": [
    "train.columns"
   ]
  },
  {
   "cell_type": "code",
   "execution_count": 25,
   "metadata": {},
   "outputs": [],
   "source": [
    "X_list = ['windDic (degree)', 'windSpeed (m/s)', \n",
    "          'farm_A', 'farm_B', 'y', 'speed_lag_1', 'speed_lag_2', 'speed_lag_3',\n",
    "       'speed_lag_4', 'speed_lag_5', 'speed_lag_6', 'speed_n_1', 'speed_n_2',\n",
    "       'speed_n_3', 'speed_n_4', 'speed_n_5', 'speed_n_6',\n",
    "       'speed_rolling_lag_3', 'speed_rolling_lag_6', 'speed_rolling_lag_12',\n",
    "       'speed_rolling_n_3', 'speed_rolling_n_6', 'speed_rolling_n_12'\n",
    "         ]\n",
    "y_list = ['y']"
   ]
  },
  {
   "cell_type": "markdown",
   "metadata": {},
   "source": [
    "### Train / Test"
   ]
  },
  {
   "cell_type": "code",
   "execution_count": 26,
   "metadata": {},
   "outputs": [],
   "source": [
    "len_ = len(train)"
   ]
  },
  {
   "cell_type": "code",
   "execution_count": 29,
   "metadata": {},
   "outputs": [
    {
     "data": {
      "text/plain": [
       "87803.1"
      ]
     },
     "execution_count": 29,
     "metadata": {},
     "output_type": "execute_result"
    }
   ],
   "source": [
    "len_*.9"
   ]
  },
  {
   "cell_type": "code",
   "execution_count": 30,
   "metadata": {},
   "outputs": [],
   "source": [
    "validation = train.loc[int(len_*.9):,:]\n",
    "train_ = train.loc[:int(len_*.9),:]"
   ]
  },
  {
   "cell_type": "code",
   "execution_count": 33,
   "metadata": {},
   "outputs": [],
   "source": [
    "cond = (df.timeStamp.dt.month<8)\n",
    "train_idx = np.where( cond)[0]\n",
    "valid_idx = np.where(~cond)[0]\n",
    "\n",
    "splits = (list(train_idx),list(valid_idx))"
   ]
  },
  {
   "cell_type": "code",
   "execution_count": null,
   "metadata": {},
   "outputs": [],
   "source": [
    "from fastai.tabular.all import *"
   ]
  },
  {
   "cell_type": "code",
   "execution_count": 36,
   "metadata": {},
   "outputs": [
    {
     "ename": "NameError",
     "evalue": "name 'cont_cat_split' is not defined",
     "output_type": "error",
     "traceback": [
      "\u001b[1;31m---------------------------------------------------------------------------\u001b[0m",
      "\u001b[1;31mNameError\u001b[0m                                 Traceback (most recent call last)",
      "\u001b[1;32m<ipython-input-36-de758c6447bc>\u001b[0m in \u001b[0;36m<module>\u001b[1;34m\u001b[0m\n\u001b[1;32m----> 1\u001b[1;33m \u001b[0mcont\u001b[0m\u001b[1;33m,\u001b[0m\u001b[0mcat\u001b[0m \u001b[1;33m=\u001b[0m \u001b[0mcont_cat_split\u001b[0m\u001b[1;33m(\u001b[0m\u001b[0mtrain_\u001b[0m\u001b[1;33m,\u001b[0m \u001b[1;36m1\u001b[0m\u001b[1;33m,\u001b[0m \u001b[0mdep_var\u001b[0m\u001b[1;33m=\u001b[0m\u001b[1;34m'y'\u001b[0m\u001b[1;33m)\u001b[0m\u001b[1;33m\u001b[0m\u001b[1;33m\u001b[0m\u001b[0m\n\u001b[0m",
      "\u001b[1;31mNameError\u001b[0m: name 'cont_cat_split' is not defined"
     ]
    }
   ],
   "source": [
    "cont,cat = cont_cat_split(train_, 1, dep_var='y')"
   ]
  },
  {
   "cell_type": "code",
   "execution_count": null,
   "metadata": {},
   "outputs": [],
   "source": []
  }
 ],
 "metadata": {
  "kernelspec": {
   "display_name": "Python 3",
   "language": "python",
   "name": "python3"
  },
  "language_info": {
   "codemirror_mode": {
    "name": "ipython",
    "version": 3
   },
   "file_extension": ".py",
   "mimetype": "text/x-python",
   "name": "python",
   "nbconvert_exporter": "python",
   "pygments_lexer": "ipython3",
   "version": "3.8.5"
  }
 },
 "nbformat": 4,
 "nbformat_minor": 4
}
